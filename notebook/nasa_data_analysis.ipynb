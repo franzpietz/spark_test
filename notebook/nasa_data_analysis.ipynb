{
 "cells": [
  {
   "cell_type": "code",
   "execution_count": 21,
   "metadata": {},
   "outputs": [],
   "source": [
    "import findspark\n",
    "findspark.init()\n",
    "\n",
    "import pyspark\n",
    "from pyspark import SparkContext, SQLContext, Row, SparkConf\n",
    "from datetime import datetime"
   ]
  },
  {
   "cell_type": "markdown",
   "metadata": {},
   "source": [
    "# Start Spark Context and sqlContext"
   ]
  },
  {
   "cell_type": "code",
   "execution_count": 8,
   "metadata": {},
   "outputs": [],
   "source": [
    "conf = SparkConf().setAppName(\"nasa_data_analysis\").setMaster(\"local\")\n",
    "sc = SparkContext(conf=conf)"
   ]
  },
  {
   "cell_type": "code",
   "execution_count": 9,
   "metadata": {},
   "outputs": [],
   "source": [
    "sqlContext = SQLContext(sc)"
   ]
  },
  {
   "cell_type": "markdown",
   "metadata": {},
   "source": [
    "# Load Data "
   ]
  },
  {
   "cell_type": "code",
   "execution_count": 10,
   "metadata": {},
   "outputs": [],
   "source": [
    "rdd_data = sc.textFile(\"../data/access_log_Aug95\")"
   ]
  },
  {
   "cell_type": "markdown",
   "metadata": {},
   "source": [
    "# Take first element to see the lines structure "
   ]
  },
  {
   "cell_type": "code",
   "execution_count": 12,
   "metadata": {},
   "outputs": [
    {
     "data": {
      "text/plain": [
       "'in24.inetnebr.com - - [01/Aug/1995:00:00:01 -0400] \"GET /shuttle/missions/sts-68/news/sts-68-mcc-05.txt HTTP/1.0\" 200 1839'"
      ]
     },
     "execution_count": 12,
     "metadata": {},
     "output_type": "execute_result"
    }
   ],
   "source": [
    "sample = rdd_data.take(1)[0]\n",
    "sample"
   ]
  },
  {
   "cell_type": "markdown",
   "metadata": {},
   "source": [
    "# Define the function to map the line to an dataframe "
   ]
  },
  {
   "cell_type": "code",
   "execution_count": 45,
   "metadata": {},
   "outputs": [],
   "source": [
    "def split_line(line):\n",
    "    host = line.split(\" \")[0]\n",
    "    timestamp = line.split(\"[\")[1].split(\"]\")[0]\n",
    "    date = datetime.strptime(timestamp,\"%d/%b/%Y:%H:%M:%S %z\")\n",
    "    truncated_date = date.replace(hour=0,minute=0,second=0)\n",
    "    temp = line.split(\"\\\"\")\n",
    "    request = temp[1].strip()\n",
    "    url=\"\"\n",
    "    if(len(request.split(\" \")) > 1):\n",
    "        url = request.split(\" \")[1]\n",
    "        \n",
    "    nothing,code,transfered_bytes = temp[-1].split(\" \")\n",
    "    \n",
    "    return [host, date, truncated_date, request, url, code, transfered_bytes]"
   ]
  },
  {
   "cell_type": "markdown",
   "metadata": {},
   "source": [
    "#### Reference to convert a string to datetime "
   ]
  },
  {
   "cell_type": "markdown",
   "metadata": {},
   "source": [
    "https://stackoverflow.com/questions/466345/converting-string-into-datetime\n",
    "\n",
    "https://docs.python.org/2/library/datetime.html#strftime-strptime-behavior"
   ]
  },
  {
   "cell_type": "code",
   "execution_count": null,
   "metadata": {},
   "outputs": [],
   "source": [
    "# Convert the RDD to an DataFrame "
   ]
  },
  {
   "cell_type": "code",
   "execution_count": 50,
   "metadata": {},
   "outputs": [],
   "source": [
    "header = ['host', 'date', 'truncated_date', 'request', 'url', 'code', 'transfered_bytes']"
   ]
  },
  {
   "cell_type": "code",
   "execution_count": 51,
   "metadata": {},
   "outputs": [],
   "source": [
    "maped = rdd_data.map(split_line)"
   ]
  },
  {
   "cell_type": "code",
   "execution_count": 52,
   "metadata": {},
   "outputs": [],
   "source": [
    "df_data = maped.toDF(header)"
   ]
  },
  {
   "cell_type": "code",
   "execution_count": 53,
   "metadata": {},
   "outputs": [
    {
     "name": "stdout",
     "output_type": "stream",
     "text": [
      "+--------------------+-------------------+-------------------+--------------------+--------------------+----+----------------+\n",
      "|                host|               date|     truncated_date|             request|                 url|code|transfered_bytes|\n",
      "+--------------------+-------------------+-------------------+--------------------+--------------------+----+----------------+\n",
      "|   in24.inetnebr.com|1995-08-01 01:00:01|1995-08-01 01:00:00|GET /shuttle/miss...|/shuttle/missions...| 200|            1839|\n",
      "|     uplherc.upl.com|1995-08-01 01:00:07|1995-08-01 01:00:00|      GET / HTTP/1.0|                   /| 304|               0|\n",
      "|     uplherc.upl.com|1995-08-01 01:00:08|1995-08-01 01:00:00|GET /images/ksclo...|/images/ksclogo-m...| 304|               0|\n",
      "|     uplherc.upl.com|1995-08-01 01:00:08|1995-08-01 01:00:00|GET /images/MOSAI...|/images/MOSAIC-lo...| 304|               0|\n",
      "|     uplherc.upl.com|1995-08-01 01:00:08|1995-08-01 01:00:00|GET /images/USA-l...|/images/USA-logos...| 304|               0|\n",
      "|ix-esc-ca2-07.ix....|1995-08-01 01:00:09|1995-08-01 01:00:00|GET /images/launc...|/images/launch-lo...| 200|            1713|\n",
      "|     uplherc.upl.com|1995-08-01 01:00:10|1995-08-01 01:00:00|GET /images/WORLD...|/images/WORLD-log...| 304|               0|\n",
      "|slppp6.intermind.net|1995-08-01 01:00:10|1995-08-01 01:00:00|GET /history/skyl...|/history/skylab/s...| 200|            1687|\n",
      "|piweba4y.prodigy.com|1995-08-01 01:00:10|1995-08-01 01:00:00|GET /images/launc...|/images/launchmed...| 200|           11853|\n",
      "|slppp6.intermind.net|1995-08-01 01:00:11|1995-08-01 01:00:00|GET /history/skyl...|/history/skylab/s...| 200|            9202|\n",
      "+--------------------+-------------------+-------------------+--------------------+--------------------+----+----------------+\n",
      "only showing top 10 rows\n",
      "\n"
     ]
    }
   ],
   "source": [
    "df_data.show(10)"
   ]
  },
  {
   "cell_type": "markdown",
   "metadata": {},
   "source": [
    "# Number of unique hosts "
   ]
  },
  {
   "cell_type": "code",
   "execution_count": 54,
   "metadata": {},
   "outputs": [
    {
     "data": {
      "text/plain": [
       "75060"
      ]
     },
     "execution_count": 54,
     "metadata": {},
     "output_type": "execute_result"
    }
   ],
   "source": [
    "df_data.select(\"host\").distinct().count()"
   ]
  },
  {
   "cell_type": "markdown",
   "metadata": {},
   "source": [
    "# Number of 404 errors"
   ]
  },
  {
   "cell_type": "code",
   "execution_count": 55,
   "metadata": {},
   "outputs": [
    {
     "data": {
      "text/plain": [
       "10056"
      ]
     },
     "execution_count": 55,
     "metadata": {},
     "output_type": "execute_result"
    }
   ],
   "source": [
    "df_404 = df_data.filter(\"code = 404\")\n",
    "df_404.count()"
   ]
  },
  {
   "cell_type": "markdown",
   "metadata": {},
   "source": [
    "# 5 most error URL "
   ]
  },
  {
   "cell_type": "code",
   "execution_count": 56,
   "metadata": {},
   "outputs": [
    {
     "name": "stdout",
     "output_type": "stream",
     "text": [
      "+--------------------+-----------+\n",
      "|                 url|count(code)|\n",
      "+--------------------+-----------+\n",
      "|/pub/winvn/readme...|       1337|\n",
      "|/pub/winvn/releas...|       1185|\n",
      "|/shuttle/missions...|        683|\n",
      "|/images/nasa-logo...|        319|\n",
      "|/shuttle/missions...|        253|\n",
      "+--------------------+-----------+\n",
      "only showing top 5 rows\n",
      "\n"
     ]
    }
   ],
   "source": [
    "df_404_url = df_404.groupBy(\"url\").agg({\"code\":\"count\"})\n",
    "df_404_url.sort(\"count(code)\",ascending=False).show(5)"
   ]
  },
  {
   "cell_type": "markdown",
   "metadata": {},
   "source": [
    "# Total of 404 per day "
   ]
  },
  {
   "cell_type": "code",
   "execution_count": 57,
   "metadata": {},
   "outputs": [
    {
     "name": "stdout",
     "output_type": "stream",
     "text": [
      "+-------------------+-----------+\n",
      "|     truncated_date|count(code)|\n",
      "+-------------------+-----------+\n",
      "|1995-08-01 01:00:00|        243|\n",
      "|1995-08-03 01:00:00|        304|\n",
      "|1995-08-04 01:00:00|        346|\n",
      "|1995-08-05 01:00:00|        236|\n",
      "|1995-08-06 01:00:00|        373|\n",
      "|1995-08-07 01:00:00|        537|\n",
      "|1995-08-08 01:00:00|        391|\n",
      "|1995-08-09 01:00:00|        279|\n",
      "|1995-08-10 01:00:00|        315|\n",
      "|1995-08-11 01:00:00|        263|\n",
      "|1995-08-12 01:00:00|        196|\n",
      "|1995-08-13 01:00:00|        216|\n",
      "|1995-08-14 01:00:00|        287|\n",
      "|1995-08-15 01:00:00|        327|\n",
      "|1995-08-16 01:00:00|        259|\n",
      "|1995-08-17 01:00:00|        271|\n",
      "|1995-08-18 01:00:00|        256|\n",
      "|1995-08-19 01:00:00|        209|\n",
      "|1995-08-20 01:00:00|        312|\n",
      "|1995-08-21 01:00:00|        305|\n",
      "+-------------------+-----------+\n",
      "only showing top 20 rows\n",
      "\n"
     ]
    }
   ],
   "source": [
    "df_404_per_day = df_404.groupBy(\"truncated_date\").agg({\"code\":\"count\"})\n",
    "df_404_per_day.sort(\"truncated_date\").show()"
   ]
  },
  {
   "cell_type": "code",
   "execution_count": null,
   "metadata": {},
   "outputs": [],
   "source": []
  },
  {
   "cell_type": "markdown",
   "metadata": {},
   "source": [
    "# Stop Context "
   ]
  },
  {
   "cell_type": "code",
   "execution_count": 6,
   "metadata": {},
   "outputs": [],
   "source": [
    "sc.stop()"
   ]
  },
  {
   "cell_type": "code",
   "execution_count": null,
   "metadata": {},
   "outputs": [],
   "source": []
  }
 ],
 "metadata": {
  "kernelspec": {
   "display_name": "Python 3",
   "language": "python",
   "name": "python3"
  },
  "language_info": {
   "codemirror_mode": {
    "name": "ipython",
    "version": 3
   },
   "file_extension": ".py",
   "mimetype": "text/x-python",
   "name": "python",
   "nbconvert_exporter": "python",
   "pygments_lexer": "ipython3",
   "version": "3.6.5"
  }
 },
 "nbformat": 4,
 "nbformat_minor": 2
}
