{
 "cells": [
  {
   "cell_type": "code",
   "execution_count": 21,
   "metadata": {},
   "outputs": [],
   "source": [
    "import findspark\n",
    "findspark.init()\n",
    "\n",
    "import pyspark\n",
    "from pyspark import SparkContext, SQLContext, Row, SparkConf\n",
    "from datetime import datetime"
   ]
  },
  {
   "cell_type": "markdown",
   "metadata": {},
   "source": [
    "# Start Spark Context and sqlContext"
   ]
  },
  {
   "cell_type": "code",
   "execution_count": 8,
   "metadata": {},
   "outputs": [],
   "source": [
    "conf = SparkConf().setAppName(\"nasa_data_analysis\").setMaster(\"local\")\n",
    "sc = SparkContext(conf=conf)"
   ]
  },
  {
   "cell_type": "code",
   "execution_count": 9,
   "metadata": {},
   "outputs": [],
   "source": [
    "sqlContext = SQLContext(sc)"
   ]
  },
  {
   "cell_type": "markdown",
   "metadata": {},
   "source": [
    "# Load Data "
   ]
  },
  {
   "cell_type": "code",
   "execution_count": 10,
   "metadata": {},
   "outputs": [],
   "source": [
    "rdd_data = sc.textFile(\"../data/access_log_Aug95\")"
   ]
  },
  {
   "cell_type": "markdown",
   "metadata": {},
   "source": [
    "# Take first element to see the lines structure "
   ]
  },
  {
   "cell_type": "code",
   "execution_count": 12,
   "metadata": {},
   "outputs": [
    {
     "data": {
      "text/plain": [
       "'in24.inetnebr.com - - [01/Aug/1995:00:00:01 -0400] \"GET /shuttle/missions/sts-68/news/sts-68-mcc-05.txt HTTP/1.0\" 200 1839'"
      ]
     },
     "execution_count": 12,
     "metadata": {},
     "output_type": "execute_result"
    }
   ],
   "source": [
    "sample = rdd_data.take(1)[0]\n",
    "sample"
   ]
  },
  {
   "cell_type": "markdown",
   "metadata": {},
   "source": [
    "# Define the function to map the line to an dataframe "
   ]
  },
  {
   "cell_type": "code",
   "execution_count": 16,
   "metadata": {},
   "outputs": [],
   "source": [
    "def split_line(line):\n",
    "    host = line.split(\" \")[0]\n",
    "    timestamp = line.split(\"[\")[1].split(\"]\")[0]\n",
    "    date = datetime.strptime(timestamp,\"%d/%b/%Y:%H:%M:%S %z\")\n",
    "    temp = line.split(\"\\\"\")\n",
    "    request = temp[1]\n",
    "    nothing,code,transfered_bytes = temp[-1].split(\" \")\n",
    "    \n",
    "    return [host, date, request, code, transfered_bytes]"
   ]
  },
  {
   "cell_type": "markdown",
   "metadata": {},
   "source": [
    "#### Reference to convert a string to datetime "
   ]
  },
  {
   "cell_type": "markdown",
   "metadata": {},
   "source": [
    "https://stackoverflow.com/questions/466345/converting-string-into-datetime\n",
    "\n",
    "https://docs.python.org/2/library/datetime.html#strftime-strptime-behavior"
   ]
  },
  {
   "cell_type": "code",
   "execution_count": null,
   "metadata": {},
   "outputs": [],
   "source": [
    "# Convert the RDD to an DataFrame "
   ]
  },
  {
   "cell_type": "code",
   "execution_count": 17,
   "metadata": {},
   "outputs": [],
   "source": [
    "header = ['host', 'date', 'request', 'code', 'transfered_bytes']"
   ]
  },
  {
   "cell_type": "code",
   "execution_count": 19,
   "metadata": {},
   "outputs": [],
   "source": [
    "maped = rdd_data.map(split_line)"
   ]
  },
  {
   "cell_type": "code",
   "execution_count": 22,
   "metadata": {},
   "outputs": [],
   "source": [
    "df_data = maped.toDF(header)"
   ]
  },
  {
   "cell_type": "code",
   "execution_count": 23,
   "metadata": {},
   "outputs": [
    {
     "name": "stdout",
     "output_type": "stream",
     "text": [
      "+--------------------+-------------------+--------------------+----+----------------+\n",
      "|                host|               date|             request|code|transfered_bytes|\n",
      "+--------------------+-------------------+--------------------+----+----------------+\n",
      "|   in24.inetnebr.com|1995-08-01 01:00:01|GET /shuttle/miss...| 200|            1839|\n",
      "|     uplherc.upl.com|1995-08-01 01:00:07|      GET / HTTP/1.0| 304|               0|\n",
      "|     uplherc.upl.com|1995-08-01 01:00:08|GET /images/ksclo...| 304|               0|\n",
      "|     uplherc.upl.com|1995-08-01 01:00:08|GET /images/MOSAI...| 304|               0|\n",
      "|     uplherc.upl.com|1995-08-01 01:00:08|GET /images/USA-l...| 304|               0|\n",
      "|ix-esc-ca2-07.ix....|1995-08-01 01:00:09|GET /images/launc...| 200|            1713|\n",
      "|     uplherc.upl.com|1995-08-01 01:00:10|GET /images/WORLD...| 304|               0|\n",
      "|slppp6.intermind.net|1995-08-01 01:00:10|GET /history/skyl...| 200|            1687|\n",
      "|piweba4y.prodigy.com|1995-08-01 01:00:10|GET /images/launc...| 200|           11853|\n",
      "|slppp6.intermind.net|1995-08-01 01:00:11|GET /history/skyl...| 200|            9202|\n",
      "+--------------------+-------------------+--------------------+----+----------------+\n",
      "only showing top 10 rows\n",
      "\n"
     ]
    }
   ],
   "source": [
    "df_data.show(10)"
   ]
  },
  {
   "cell_type": "markdown",
   "metadata": {},
   "source": [
    "# Number of unique hosts "
   ]
  },
  {
   "cell_type": "code",
   "execution_count": 25,
   "metadata": {},
   "outputs": [
    {
     "data": {
      "text/plain": [
       "75060"
      ]
     },
     "execution_count": 25,
     "metadata": {},
     "output_type": "execute_result"
    }
   ],
   "source": [
    "df_data.select(\"host\").distinct().count()"
   ]
  },
  {
   "cell_type": "markdown",
   "metadata": {},
   "source": [
    "# Number of 404 errors"
   ]
  },
  {
   "cell_type": "code",
   "execution_count": null,
   "metadata": {},
   "outputs": [],
   "source": [
    "df_404 = df_data.filter(\"code = 404\")\n",
    "df_404.count()"
   ]
  },
  {
   "cell_type": "code",
   "execution_count": 28,
   "metadata": {},
   "outputs": [],
   "source": [
    "# 5 most error URL "
   ]
  },
  {
   "cell_type": "code",
   "execution_count": null,
   "metadata": {},
   "outputs": [],
   "source": []
  },
  {
   "cell_type": "markdown",
   "metadata": {},
   "source": [
    "# Stop Context "
   ]
  },
  {
   "cell_type": "code",
   "execution_count": 6,
   "metadata": {},
   "outputs": [],
   "source": [
    "sc.stop()"
   ]
  },
  {
   "cell_type": "code",
   "execution_count": null,
   "metadata": {},
   "outputs": [],
   "source": []
  }
 ],
 "metadata": {
  "kernelspec": {
   "display_name": "Python 3",
   "language": "python",
   "name": "python3"
  },
  "language_info": {
   "codemirror_mode": {
    "name": "ipython",
    "version": 3
   },
   "file_extension": ".py",
   "mimetype": "text/x-python",
   "name": "python",
   "nbconvert_exporter": "python",
   "pygments_lexer": "ipython3",
   "version": "3.6.5"
  }
 },
 "nbformat": 4,
 "nbformat_minor": 2
}
